{
 "cells": [
  {
   "cell_type": "code",
   "execution_count": null,
   "metadata": {
    "colab": {
     "background_save": true
    },
    "id": "S0ZQp-n18sE0"
   },
   "outputs": [],
   "source": [
    "                                                                                                                                                                                                                                                                                                                                                                                                                                                                                                                                                                           import numpy as np\n",
    "from scipy.fftpack import fft #fast fourier transform\n",
    "from scipy.io import wavfile #read and write soundfile\n",
    "import matplotlib.pyplot as plt\n",
    "from IPython.display import Audio #play file sound in colab"
   ]
  },
  {
   "cell_type": "markdown",
   "metadata": {
    "id": "CIHTgh1HpNaZ"
   },
   "source": [
    "Fourier Series and Sound waves"
   ]
  },
  {
   "cell_type": "code",
   "execution_count": null,
   "metadata": {
    "colab": {
     "base_uri": "https://localhost:8080/",
     "height": 225
    },
    "id": "j3K-FyI2pBJs",
    "outputId": "19465d0f-3846-4708-e05b-b5db09666109"
   },
   "outputs": [
    {
     "ename": "NameError",
     "evalue": "ignored",
     "output_type": "error",
     "traceback": [
      "\u001b[0;31m---------------------------------------------------------------------------\u001b[0m",
      "\u001b[0;31mNameError\u001b[0m                                 Traceback (most recent call last)",
      "\u001b[0;32m<ipython-input-1-d656ad826ee7>\u001b[0m in \u001b[0;36m<module>\u001b[0;34m()\u001b[0m\n\u001b[1;32m      4\u001b[0m \u001b[0mL\u001b[0m \u001b[0;34m=\u001b[0m \u001b[0;36m10.0\u001b[0m\u001b[0;34m\u001b[0m\u001b[0;34m\u001b[0m\u001b[0m\n\u001b[1;32m      5\u001b[0m \u001b[0;31m# time array\u001b[0m\u001b[0;34m\u001b[0m\u001b[0;34m\u001b[0m\u001b[0;34m\u001b[0m\u001b[0m\n\u001b[0;32m----> 6\u001b[0;31m \u001b[0mt\u001b[0m \u001b[0;34m=\u001b[0m \u001b[0mnp\u001b[0m\u001b[0;34m.\u001b[0m\u001b[0marange\u001b[0m\u001b[0;34m(\u001b[0m \u001b[0;36m0\u001b[0m\u001b[0;34m,\u001b[0m \u001b[0mL\u001b[0m\u001b[0;34m,\u001b[0m \u001b[0mfloat\u001b[0m\u001b[0;34m(\u001b[0m\u001b[0;36m1.0\u001b[0m\u001b[0;34m/\u001b[0m\u001b[0mrate\u001b[0m\u001b[0;34m)\u001b[0m \u001b[0;34m)\u001b[0m\u001b[0;34m\u001b[0m\u001b[0;34m\u001b[0m\u001b[0m\n\u001b[0m\u001b[1;32m      7\u001b[0m \u001b[0;34m\u001b[0m\u001b[0m\n\u001b[1;32m      8\u001b[0m \u001b[0;31m# frequency (Hz)\u001b[0m\u001b[0;34m\u001b[0m\u001b[0;34m\u001b[0m\u001b[0;34m\u001b[0m\u001b[0m\n",
      "\u001b[0;31mNameError\u001b[0m: name 'np' is not defined"
     ]
    }
   ],
   "source": [
    "# sample rate [samples/s]\n",
    "rate = 10000\n",
    "# time domain length (s)\n",
    "L = 10.0\n",
    "# time array\n",
    "t = np.arange( 0, L, float(1.0/rate) )\n",
    "\n",
    "# frequency (Hz)\n",
    "f = 2000\n",
    "# sine wave\n",
    "def f_sin(f, t):\n",
    "    return np.sin(2*np.pi*f*t)\n",
    "\n",
    "# frequencies (Hz)\n",
    "f1 = 300\n",
    "f2 = 301\n",
    "# beats\n",
    "def f_beat(f1, f2, t):\n",
    "    return ( np.sin(2*np.pi*f1*t) + np.sin(2*np.pi*f2*t) )  \n",
    "\n",
    "#wavfile.write( '03_mi_new.wav', rate , f_beat(f1, f2, t) )\n",
    "Audio(data=f_beat(f1, f2, t),rate=rate)\n"
   ]
  },
  {
   "cell_type": "code",
   "execution_count": null,
   "metadata": {
    "colab": {
     "base_uri": "https://localhost:8080/",
     "height": 283
    },
    "id": "1GtQ0NDv-LHz",
    "outputId": "e0513a47-f719-43b4-fab6-698d7bc68bdc"
   },
   "outputs": [
    {
     "data": {
      "text/plain": [
       "[<matplotlib.lines.Line2D at 0x7fbd19b9fad0>]"
      ]
     },
     "execution_count": 3,
     "metadata": {
      "tags": []
     },
     "output_type": "execute_result"
    },
    {
     "data": {
      "image/png": "[encoded data removed]",
      "text/plain": [
       "<Figure size 432x288 with 1 Axes>"
      ]
     },
     "metadata": {
      "tags": []
     },
     "output_type": "display_data"
    }
   ],
   "source": [
    "FT = np.fft.hfft( f_beat( f1, f2, t[:] ) )\n",
    "\n",
    "f = np.arange( 1/(2*L), (len(FT)+1)/(2*L), 1/(2*L) )\n",
    "plt.plot( f[0:20000],FT[0:20000] )"
   ]
  },
  {
   "cell_type": "markdown",
   "metadata": {
    "id": "tg7L1WxM40AD"
   },
   "source": [
    "https://freesound.org/people/Jaz_the_MAN_2/packs/17749/"
   ]
  },
  {
   "cell_type": "code",
   "execution_count": null,
   "metadata": {
    "colab": {
     "base_uri": "https://localhost:8080/"
    },
    "id": "afSJghbusqOP",
    "outputId": "47c4d40e-856d-406c-93cc-b6391b3986ae"
   },
   "outputs": [
    {
     "name": "stdout",
     "output_type": "stream",
     "text": [
      "Downloading...\n",
      "From: https://drive.google.com/uc?id=1ynN-g89A8vf_9oywhCZt31MdDVHTDieH\n",
      "To: /content/01-do.wav\n",
      "100% 293k/293k [00:00<00:00, 43.4MB/s]\n",
      "Downloading...\n",
      "From: https://drive.google.com/uc?id=1p34jWsq7Kc4jShf-shr5utEnJaJANI8O\n",
      "To: /content/02-re.wav\n",
      "100% 266k/266k [00:00<00:00, 75.8MB/s]\n",
      "Downloading...\n",
      "From: https://drive.google.com/uc?id=1urnz3TJ0mStG2QA2eDm_XjZAoXYJxgYN\n",
      "To: /content/03-mi.wav\n",
      "100% 237k/237k [00:00<00:00, 32.7MB/s]\n",
      "Downloading...\n",
      "From: https://drive.google.com/uc?id=1od8wOzKHvCGFNP-k_ipaIsOjC7OEwUr7\n",
      "To: /content/04-fa.wav\n",
      "100% 220k/220k [00:00<00:00, 32.0MB/s]\n",
      "Downloading...\n",
      "From: https://drive.google.com/uc?id=18gfe-EfEmND9TzA9hP1i7MAZaIkmIJ_E\n",
      "To: /content/05-sol.wav\n",
      "100% 236k/236k [00:00<00:00, 72.6MB/s]\n",
      "Downloading...\n",
      "From: https://drive.google.com/uc?id=15-D-cejPCbR_lUDVbn10L2JI2Emfu058\n",
      "To: /content/06-la.wav\n",
      "100% 252k/252k [00:00<00:00, 75.4MB/s]\n"
     ]
    }
   ],
   "source": [
    "# Downloading files\n",
    "!gdown --id 1ynN-g89A8vf_9oywhCZt31MdDVHTDieH\n",
    "!gdown --id 1p34jWsq7Kc4jShf-shr5utEnJaJANI8O\n",
    "!gdown --id 1urnz3TJ0mStG2QA2eDm_XjZAoXYJxgYN\n",
    "!gdown --id 1od8wOzKHvCGFNP-k_ipaIsOjC7OEwUr7\n",
    "!gdown --id 18gfe-EfEmND9TzA9hP1i7MAZaIkmIJ_E\n",
    "!gdown --id 15-D-cejPCbR_lUDVbn10L2JI2Emfu058"
   ]
  },
  {
   "cell_type": "code",
   "execution_count": null,
   "metadata": {
    "colab": {
     "base_uri": "https://localhost:8080/",
     "height": 587
    },
    "id": "gmiEK8Sj5qTR",
    "outputId": "87867ce9-684b-41c1-e464-62f29ce68fad"
   },
   "outputs": [
    {
     "name": "stderr",
     "output_type": "stream",
     "text": [
      "/usr/local/lib/python3.7/dist-packages/ipykernel_launcher.py:1: WavFileWarning: Chunk (non-data) not understood, skipping it.\n",
      "  \"\"\"Entry point for launching an IPython kernel.\n"
     ]
    },
    {
     "data": {
      "image/png": "[encoded data removed]",
      "text/plain": [
       "<Figure size 432x288 with 1 Axes>"
      ]
     },
     "metadata": {
      "tags": []
     },
     "output_type": "display_data"
    },
    {
     "data": {
      "image/png": "[encoded data removed]",
      "text/plain": [
       "<Figure size 432x288 with 1 Axes>"
      ]
     },
     "metadata": {
      "tags": []
     },
     "output_type": "display_data"
    }
   ],
   "source": [
    "wavdat = wavfile.read('01-do.wav')\n",
    "rate = wavdat[0]\n",
    "num = len(wavdat[1])\n",
    "T_all = num/float(rate)\n",
    "A = wavdat[1][:,0]\n",
    "t = np.linspace( 1/float(rate), T_all, num=num )\n",
    "\n",
    "plt.xlabel( 'time (second)' )\n",
    "plt.ylabel( 'Amplitude (no unit)' )\n",
    "plt.plot( t, A )\n",
    "plt.show()\n",
    "\n",
    "FT = fft( A )\n",
    "f = np.linspace( 1/(2*T_all), num/(2*T_all), num=num )\n",
    "\n",
    "plt.xlim( 0, 2000 )\n",
    "plt.ylim( 0, 4e7 )\n",
    "plt.xlabel( 'frequency (Hz)' )\n",
    "plt.ylabel( 'Amplitude (no unit)' )\n",
    "plt.plot( f, np.abs( FT ) )\n",
    "plt.show()\n"
   ]
  },
  {
   "cell_type": "markdown",
   "metadata": {
    "id": "jGgY_Y9UPVI7"
   },
   "source": [
    "**กิจกรรม**\n",
    "\n",
    "1. ปรับแต่งโปรแกรมให้สามารถหาค่าความถี่ที่ต่ำที่สุดของโน้ต Do, Re, Mi, ...\n",
    "2. code cell ของโปรแกรมสร้างกราฟความสัมพันธ์ของความถี่ที่ต่ำที่สุดของโน้ต Do, Re, Mi, ... \n",
    "3. code cell ของโปรแกรมสร้างไฟล์เสียง beats ที่มีความถี่บีตส์ 0.1 Hz ของโน้ต Do, Re, Mi, ... \n",
    "\n",
    "4. (optional) ลองวิเคราะไฟล์ .wav จากเสียงหรือเครื่องดนตรีชนิดอื่นๆ\n",
    "\n",
    "อัพโหลดส่งเป็นไฟล์ .ipynb ทาง Google Classroom"
   ]
  },
  {
   "cell_type": "code",
   "execution_count": null,
   "metadata": {
    "colab": {
     "base_uri": "https://localhost:8080/",
     "height": 761
    },
    "id": "BS1hT6vxkNVU",
    "outputId": "076c579a-4317-4c17-e484-7522ccd87207"
   },
   "outputs": [
    {
     "name": "stdout",
     "output_type": "stream",
     "text": [
      "(array([3, 5]),)\n",
      "[10 15]\n",
      "(array([  435,   436,   437,   438,   439,   440,   441,   442,   443,\n",
      "         444,   445,   446,   447,   448,   870,   871,   872,   873,\n",
      "         874,   875,   876,   877,   878,   879,   880,   881,   882,\n",
      "         883,  1305,  1306,  1307,  2179, 70986, 71858, 71859, 71860,\n",
      "       72282, 72283, 72284, 72285, 72286, 72287, 72288, 72289, 72290,\n",
      "       72291, 72292, 72293, 72294, 72295, 72717, 72718, 72719, 72720,\n",
      "       72721, 72722, 72723, 72724, 72725, 72726, 72727, 72728, 72729,\n",
      "       72730]),)\n",
      "[  131.39889291   131.70026652   132.00164013   132.30301374\n",
      "   132.60438734   132.90576095   133.20713456   133.50850817\n",
      "   133.80988177   134.11125538   134.41262899   134.7140026\n",
      "   135.0153762    135.31674981   262.49641222   262.79778583\n",
      "   263.09915943   263.40053304   263.70190665   264.00328026\n",
      "   264.30465386   264.60602747   264.90740108   265.20877469\n",
      "   265.51014829   265.8115219    266.11289551   266.41426912\n",
      "   393.59393152   393.89530513   394.19667874   656.99446457\n",
      " 21393.60828265 21656.40606848 21656.70744208 21657.00881569\n",
      " 21784.1884781  21784.48985171 21784.79122531 21785.09259892\n",
      " 21785.39397253 21785.69534614 21785.99671974 21786.29809335\n",
      " 21786.59946696 21786.90084057 21787.20221417 21787.50358778\n",
      " 21787.80496139 21788.106335   21915.2859974  21915.58737101\n",
      " 21915.88874462 21916.19011823 21916.49149183 21916.79286544\n",
      " 21917.09423905 21917.39561266 21917.69698626 21917.99835987\n",
      " 21918.29973348 21918.60110709 21918.90248069 21919.2038543 ]\n"
     ]
    },
    {
     "name": "stderr",
     "output_type": "stream",
     "text": [
      "/usr/local/lib/python3.7/dist-packages/numpy/core/_asarray.py:83: ComplexWarning: Casting complex values to real discards the imaginary part\n",
      "  return array(a, dtype, copy=False, order=order)\n"
     ]
    },
    {
     "data": {
      "image/png": "[encoded data removed]",
      "text/plain": [
       "<Figure size 432x288 with 1 Axes>"
      ]
     },
     "metadata": {
      "tags": []
     },
     "output_type": "display_data"
    }
   ],
   "source": [
    "X = np.array ([0,0,0,10,0,15,0])\n",
    "\n",
    "print (np.where (X>=5))\n",
    "\n",
    "print (X [np.where (X>=5)])\n",
    "\n",
    "#print (FT)\n",
    "plt.plot (FT)\n",
    "\n",
    "print (np.where (FT>1e6))\n",
    "\n",
    "print (f [np.where (FT>1e6)])"
   ]
  }
 ],
 "metadata": {
  "colab": {
   "collapsed_sections": [],
   "name": "ESC774_Fourier_5Aug2021.ipynb",
   "provenance": []
  },
  "kernelspec": {
   "display_name": "Python 3 (ipykernel)",
   "language": "python",
   "name": "python3"
  },
  "language_info": {
   "codemirror_mode": {
    "name": "ipython",
    "version": 3
   },
   "file_extension": ".py",
   "mimetype": "text/x-python",
   "name": "python",
   "nbconvert_exporter": "python",
   "pygments_lexer": "ipython3",
   "version": "3.9.12"
  }
 },
 "nbformat": 4,
 "nbformat_minor": 1
}
